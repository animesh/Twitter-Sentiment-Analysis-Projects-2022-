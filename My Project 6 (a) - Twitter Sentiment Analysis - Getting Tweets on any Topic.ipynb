{
 "cells": [
  {
   "cell_type": "markdown",
   "metadata": {},
   "source": [
    "# TWITTER SENTIMENT ANALYSIS OF ANY TOPIC (WITH PIE CHART, WORD CLOUD, AND HISTOGRAM)"
   ]
  },
  {
   "cell_type": "markdown",
   "metadata": {},
   "source": [
    "In this Project, we will be performing sentiment analysis on tweets regarding a particular topic. After that, using our data, we will create a Pie Chart, a Histogram, and a Word Cloud, for Data Visualisation."
   ]
  },
  {
   "cell_type": "code",
   "execution_count": null,
   "metadata": {},
   "outputs": [],
   "source": [
    "import re \n",
    "\n",
    "import tweepy \n",
    "\n",
    "from tweepy import OAuthHandler \n",
    "\n",
    "from textblob import TextBlob \n",
    "\n",
    "import matplotlib.pyplot as plt\n",
    "\n",
    "import pandas as pd\n",
    "\n",
    "from wordcloud import WordCloud"
   ]
  },
  {
   "cell_type": "code",
   "execution_count": null,
   "metadata": {},
   "outputs": [],
   "source": [
    "# Remember to keep your Keys and Tokens a secret!\n",
    "\n",
    "consumer_key = 'xxxxx'\n",
    "consumer_secret = 'xxxxx' \n",
    "access_token = 'xxxxx'\n",
    "access_token_secret = 'xxxxx'"
   ]
  },
  {
   "cell_type": "code",
   "execution_count": null,
   "metadata": {},
   "outputs": [],
   "source": [
    "auth = tweepy.OAuthHandler(consumer_key, consumer_secret)\n",
    "auth.set_access_token(access_token, access_token_secret)\n",
    "\n",
    "\n",
    "api = tweepy.API(auth)"
   ]
  },
  {
   "cell_type": "code",
   "execution_count": null,
   "metadata": {},
   "outputs": [],
   "source": [
    "# Clean up the Tweets by removing special characters.\n",
    "\n",
    "def remove_url(txt):\n",
    "    return \" \".join(re.sub(\"([^0-9A-Za-z \\t])|(\\w+:\\/\\/\\S+)\", \"\", txt).split())"
   ]
  },
  {
   "cell_type": "code",
   "execution_count": null,
   "metadata": {
    "scrolled": true
   },
   "outputs": [],
   "source": [
    "# Input a topic from a user.\n",
    "\n",
    "word = input(\"Enter the word here: \")"
   ]
  },
  {
   "cell_type": "code",
   "execution_count": null,
   "metadata": {},
   "outputs": [],
   "source": [
    "filtered='word -filter:retweets'\n",
    "\n",
    "\n",
    "tweets = tweepy.Cursor(api.search,\n",
    "              q=filtered,\n",
    "              lang=\"en\").items(100)\n",
    "\n",
    "tweets"
   ]
  },
  {
   "cell_type": "code",
   "execution_count": null,
   "metadata": {},
   "outputs": [],
   "source": [
    "# Removes urls from the Tweets.\n",
    "\n",
    "cleantweets = [remove_url(tweet.text) for tweet in tweets]"
   ]
  },
  {
   "cell_type": "code",
   "execution_count": null,
   "metadata": {},
   "outputs": [],
   "source": []
  },
  {
   "cell_type": "code",
   "execution_count": null,
   "metadata": {},
   "outputs": [],
   "source": [
    "# Create TextBlob objects of the Tweets\n",
    "\n",
    "sentiment_objects = [TextBlob(tweet) for tweet in cleantweets]\n",
    "\n",
    "sentiment_objects[0].polarity, sentiment_objects[0]\n"
   ]
  },
  {
   "cell_type": "code",
   "execution_count": null,
   "metadata": {},
   "outputs": [],
   "source": [
    "# Create a list of Polarity Values and tweet text\n",
    "\n",
    "sentiment_values = [[tweet.sentiment.polarity, str(tweet)] for tweet in sentiment_objects]\n",
    "\n",
    "# Print value of 0th row.\n",
    "sentiment_values[0]"
   ]
  },
  {
   "cell_type": "code",
   "execution_count": null,
   "metadata": {},
   "outputs": [],
   "source": [
    "# Print all the sentiment values from 0 to 99.\n",
    "\n",
    "sentiment_values[0:99]\n"
   ]
  },
  {
   "cell_type": "code",
   "execution_count": null,
   "metadata": {},
   "outputs": [],
   "source": []
  },
  {
   "cell_type": "code",
   "execution_count": null,
   "metadata": {},
   "outputs": [],
   "source": []
  },
  {
   "cell_type": "code",
   "execution_count": null,
   "metadata": {},
   "outputs": [],
   "source": [
    "sentiment_df = pd.DataFrame(sentiment_values, columns=[\"polarity\", \"tweet\"])\n",
    "\n",
    "sentiment_df"
   ]
  },
  {
   "cell_type": "code",
   "execution_count": null,
   "metadata": {},
   "outputs": [],
   "source": [
    "# Save the 'polarity' column as 'n'.\n",
    "\n",
    "n=sentiment_df[\"polarity\"]\n",
    "\n",
    "# Convert this column into a series 'm'. \n",
    "\n",
    "m=pd.Series(n)\n",
    "\n",
    "m\n"
   ]
  },
  {
   "cell_type": "code",
   "execution_count": null,
   "metadata": {},
   "outputs": [],
   "source": [
    "# Initialize variables, 'pos', 'neg', 'neu'.\n",
    "\n",
    "pos=0\n",
    "neg=0\n",
    "neu=0\n",
    "\n",
    "# Create a loop to classify as Positive, Negative, or Neutral.\n",
    "# Count the number of each.\n",
    "\n",
    "for items in m:\n",
    "    if items>0:\n",
    "        print(\"Positive\")\n",
    "        pos=pos+1\n",
    "    elif items<0:\n",
    "        print(\"Negative\")\n",
    "        neg=neg+1\n",
    "    else:\n",
    "        print(\"Neutral\")\n",
    "        neu=neu+1\n",
    "        \n",
    "print(pos,neg,neu)"
   ]
  },
  {
   "cell_type": "code",
   "execution_count": null,
   "metadata": {},
   "outputs": [],
   "source": []
  },
  {
   "cell_type": "markdown",
   "metadata": {},
   "source": [
    "Create a Pie Chart"
   ]
  },
  {
   "cell_type": "code",
   "execution_count": null,
   "metadata": {},
   "outputs": [],
   "source": [
    "\n",
    "pieLabels=[\"Positive\",\"Negative\",\"Neutral\"]\n",
    "\n",
    "populationShare=[pos,neg,neu]\n",
    "\n",
    "figureObject, axesObject = plt.subplots()\n",
    "\n",
    "axesObject.pie(populationShare,labels=pieLabels,autopct='%1.2f',startangle=90)\n",
    "\n",
    "axesObject.axis('equal')\n",
    "\n",
    "plt.show()\n"
   ]
  },
  {
   "cell_type": "code",
   "execution_count": null,
   "metadata": {},
   "outputs": [],
   "source": [
    "# Display the number of twitter users who feel a certain way about the given topic.\n",
    "\n",
    "print(\"%f percent twitter users feel positive about %s\"%(pos,word))\n",
    "\n",
    "print(\"%f percent twitter users feel negative about %s\"%(neg,word))\n",
    "\n",
    "print(\"%f percent twitter users feel neutral about %s\"%(neu,word))"
   ]
  },
  {
   "cell_type": "code",
   "execution_count": null,
   "metadata": {},
   "outputs": [],
   "source": []
  },
  {
   "cell_type": "markdown",
   "metadata": {},
   "source": [
    "Create a Histogram\n"
   ]
  },
  {
   "cell_type": "code",
   "execution_count": null,
   "metadata": {},
   "outputs": [],
   "source": [
    "fig, ax = plt.subplots(figsize=(8, 6))\n",
    "\n",
    "# Plot histogram of the polarity values\n",
    "sentiment_df.hist(bins=[-1, -0.75, -0.5, -0.25, 0.25, 0.5, 0.75, 1],\n",
    "             ax=ax,\n",
    "             color=\"purple\")\n",
    "\n",
    "plt.title(\"Sentiments from the Tweets\")\n",
    "plt.show()"
   ]
  },
  {
   "cell_type": "markdown",
   "metadata": {},
   "source": [
    "Create a Word Cloud"
   ]
  },
  {
   "cell_type": "code",
   "execution_count": null,
   "metadata": {},
   "outputs": [],
   "source": [
    "all_words = ' '.join([text for text in cleantweets])\n",
    "wordcloud = WordCloud(width=800, height=500, random_state=21, max_font_size=110).generate(all_words)\n",
    "\n",
    "plt.figure(figsize=(10, 7))\n",
    "plt.imshow(wordcloud, interpolation=\"bilinear\")\n",
    "plt.axis('off')\n",
    "plt.show()"
   ]
  },
  {
   "cell_type": "code",
   "execution_count": null,
   "metadata": {},
   "outputs": [],
   "source": []
  }
 ],
 "metadata": {
  "kernelspec": {
   "display_name": "Python 3",
   "language": "python",
   "name": "python3"
  },
  "language_info": {
   "codemirror_mode": {
    "name": "ipython",
    "version": 3
   },
   "file_extension": ".py",
   "mimetype": "text/x-python",
   "name": "python",
   "nbconvert_exporter": "python",
   "pygments_lexer": "ipython3",
   "version": "3.7.3"
  }
 },
 "nbformat": 4,
 "nbformat_minor": 2
}
